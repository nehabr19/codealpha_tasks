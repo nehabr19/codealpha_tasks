{
 "cells": [
  {
   "cell_type": "code",
   "execution_count": 3,
   "id": "701bc4f9",
   "metadata": {},
   "outputs": [
    {
     "name": "stdout",
     "output_type": "stream",
     "text": [
      "Accuracy: 1.0\n",
      "Confusion Matrix:\n",
      " [[10  0  0]\n",
      " [ 0  9  0]\n",
      " [ 0  0 11]]\n",
      "Classification Report:\n",
      "                  precision    recall  f1-score   support\n",
      "\n",
      "    Iris-setosa       1.00      1.00      1.00        10\n",
      "Iris-versicolor       1.00      1.00      1.00         9\n",
      " Iris-virginica       1.00      1.00      1.00        11\n",
      "\n",
      "       accuracy                           1.00        30\n",
      "      macro avg       1.00      1.00      1.00        30\n",
      "   weighted avg       1.00      1.00      1.00        30\n",
      "\n"
     ]
    }
   ],
   "source": [
    "import pandas as pd\n",
    "from sklearn.model_selection import train_test_split\n",
    "from sklearn.preprocessing import StandardScaler\n",
    "from sklearn.ensemble import RandomForestClassifier\n",
    "from sklearn.metrics import accuracy_score, classification_report, confusion_matrix\n",
    "\n",
    "df = pd.read_csv('Iris.csv')\n",
    "\n",
    "df.rename(columns={'SepalLengthCm': 'sepal_length',\n",
    "                   'SepalWidthCm': 'sepal_width',\n",
    "                   'PetalLengthCm': 'petal_length',\n",
    "                   'PetalWidthCm': 'petal_width'}, inplace=True)\n",
    "\n",
    "df.drop(columns=['Id'], inplace=True)\n",
    "\n",
    "X = df[['sepal_length', 'sepal_width', 'petal_length', 'petal_width']]\n",
    "y = df['Species']\n",
    "\n",
    "X_train, X_test, y_train, y_test = train_test_split(X, y, test_size=0.2, random_state=42)\n",
    "\n",
    "scaler = StandardScaler()\n",
    "X_train = scaler.fit_transform(X_train)\n",
    "X_test = scaler.transform(X_test)\n",
    "\n",
    "clf = RandomForestClassifier(n_estimators=100, random_state=42)\n",
    "clf.fit(X_train, y_train)\n",
    "\n",
    "y_pred = clf.predict(X_test)\n",
    "print(\"Accuracy:\", accuracy_score(y_test, y_pred))\n",
    "print(\"Confusion Matrix:\\n\", confusion_matrix(y_test, y_pred))\n",
    "print(\"Classification Report:\\n\", classification_report(y_test, y_pred))\n",
    "\n",
    "\n"
   ]
  },
  {
   "cell_type": "code",
   "execution_count": 4,
   "id": "fcd93e3e",
   "metadata": {},
   "outputs": [
    {
     "name": "stdout",
     "output_type": "stream",
     "text": [
      "Cross-validation scores:  [0.96666667 0.96666667 0.93333333 0.96666667 1.        ]\n",
      "Mean CV accuracy:  0.9666666666666668\n"
     ]
    }
   ],
   "source": [
    "from sklearn.model_selection import cross_val_score\n",
    "\n",
    "# Perform cross-validation with 5 folds\n",
    "cv_scores = cross_val_score(clf, X, y, cv=5)\n",
    "\n",
    "# Output the cross-validation scores\n",
    "print(\"Cross-validation scores: \", cv_scores)\n",
    "print(\"Mean CV accuracy: \", cv_scores.mean())\n"
   ]
  },
  {
   "cell_type": "code",
   "execution_count": 5,
   "id": "b6e05a0b",
   "metadata": {},
   "outputs": [
    {
     "name": "stdout",
     "output_type": "stream",
     "text": [
      "Accuracy: 1.0\n",
      "Confusion Matrix:\n",
      " [[10  0  0]\n",
      " [ 0  9  0]\n",
      " [ 0  0 11]]\n",
      "Classification Report:\n",
      "                  precision    recall  f1-score   support\n",
      "\n",
      "    Iris-setosa       1.00      1.00      1.00        10\n",
      "Iris-versicolor       1.00      1.00      1.00         9\n",
      " Iris-virginica       1.00      1.00      1.00        11\n",
      "\n",
      "       accuracy                           1.00        30\n",
      "      macro avg       1.00      1.00      1.00        30\n",
      "   weighted avg       1.00      1.00      1.00        30\n",
      "\n"
     ]
    }
   ],
   "source": [
    "# Train a Random Forest Classifier with fewer trees and limited depth\n",
    "clf = RandomForestClassifier(n_estimators=10, max_depth=5, random_state=42)\n",
    "clf.fit(X_train, y_train)\n",
    "\n",
    "# Evaluate the simplified model\n",
    "y_pred = clf.predict(X_test)\n",
    "print(\"Accuracy:\", accuracy_score(y_test, y_pred))\n",
    "print(\"Confusion Matrix:\\n\", confusion_matrix(y_test, y_pred))\n",
    "print(\"Classification Report:\\n\", classification_report(y_test, y_pred))\n"
   ]
  },
  {
   "cell_type": "code",
   "execution_count": 11,
   "id": "9e8a6d68",
   "metadata": {},
   "outputs": [
    {
     "name": "stdout",
     "output_type": "stream",
     "text": [
      "\n",
      "Enter the measurements of the Iris flower to predict its species:\n"
     ]
    },
    {
     "name": "stdin",
     "output_type": "stream",
     "text": [
      "Enter Sepal Length (cm):  3\n",
      "Enter Sepal Width (cm):  4\n",
      "Enter Petal Length (cm):  2\n",
      "Enter Petal Width (cm):  2\n"
     ]
    },
    {
     "name": "stdout",
     "output_type": "stream",
     "text": [
      "\n",
      "The predicted species is: Iris-setosa\n"
     ]
    }
   ],
   "source": [
    "def predict_species():\n",
    "    print(\"\\nEnter the measurements of the Iris flower to predict its species:\")\n",
    "    sepal_length = float(input(\"Enter Sepal Length (cm): \"))\n",
    "    sepal_width = float(input(\"Enter Sepal Width (cm): \"))\n",
    "    petal_length = float(input(\"Enter Petal Length (cm): \"))\n",
    "    petal_width = float(input(\"Enter Petal Width (cm): \"))\n",
    "\n",
    "    input_data = pd.DataFrame([[sepal_length, sepal_width, petal_length, petal_width]],\n",
    "                              columns=['sepal_length', 'sepal_width', 'petal_length', 'petal_width'])\n",
    "\n",
    "    input_data_scaled = scaler.transform(input_data)\n",
    "\n",
    "    prediction = clf.predict(input_data_scaled)\n",
    "    \n",
    "    print(f\"\\nThe predicted species is: {prediction[0]}\")\n",
    "\n",
    "predict_species()"
   ]
  },
  {
   "cell_type": "code",
   "execution_count": null,
   "id": "8e56313c-9982-4941-94e0-57cb8a902893",
   "metadata": {},
   "outputs": [],
   "source": []
  }
 ],
 "metadata": {
  "kernelspec": {
   "display_name": "Python 3 (ipykernel)",
   "language": "python",
   "name": "python3"
  },
  "language_info": {
   "codemirror_mode": {
    "name": "ipython",
    "version": 3
   },
   "file_extension": ".py",
   "mimetype": "text/x-python",
   "name": "python",
   "nbconvert_exporter": "python",
   "pygments_lexer": "ipython3",
   "version": "3.11.9"
  }
 },
 "nbformat": 4,
 "nbformat_minor": 5
}
