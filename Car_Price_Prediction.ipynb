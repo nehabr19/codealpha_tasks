{
 "cells": [
  {
   "cell_type": "code",
   "execution_count": 2,
   "id": "e8e9bb4d",
   "metadata": {
    "scrolled": true
   },
   "outputs": [
    {
     "name": "stdout",
     "output_type": "stream",
     "text": [
      "  Car_Name  Year  Selling_Price  Present_Price  Driven_kms Fuel_Type  \\\n",
      "0     ritz  2014           3.35           5.59       27000    Petrol   \n",
      "1      sx4  2013           4.75           9.54       43000    Diesel   \n",
      "2     ciaz  2017           7.25           9.85        6900    Petrol   \n",
      "3  wagon r  2011           2.85           4.15        5200    Petrol   \n",
      "4    swift  2014           4.60           6.87       42450    Diesel   \n",
      "\n",
      "  Selling_type Transmission  Owner  \n",
      "0       Dealer       Manual      0  \n",
      "1       Dealer       Manual      0  \n",
      "2       Dealer       Manual      0  \n",
      "3       Dealer       Manual      0  \n",
      "4       Dealer       Manual      0  \n",
      "<class 'pandas.core.frame.DataFrame'>\n",
      "RangeIndex: 301 entries, 0 to 300\n",
      "Data columns (total 9 columns):\n",
      " #   Column         Non-Null Count  Dtype  \n",
      "---  ------         --------------  -----  \n",
      " 0   Car_Name       301 non-null    object \n",
      " 1   Year           301 non-null    int64  \n",
      " 2   Selling_Price  301 non-null    float64\n",
      " 3   Present_Price  301 non-null    float64\n",
      " 4   Driven_kms     301 non-null    int64  \n",
      " 5   Fuel_Type      301 non-null    object \n",
      " 6   Selling_type   301 non-null    object \n",
      " 7   Transmission   301 non-null    object \n",
      " 8   Owner          301 non-null    int64  \n",
      "dtypes: float64(2), int64(3), object(4)\n",
      "memory usage: 21.3+ KB\n",
      "None\n",
      "              Year  Selling_Price  Present_Price     Driven_kms       Owner\n",
      "count   301.000000     301.000000     301.000000     301.000000  301.000000\n",
      "mean   2013.627907       4.661296       7.628472   36947.205980    0.043189\n",
      "std       2.891554       5.082812       8.642584   38886.883882    0.247915\n",
      "min    2003.000000       0.100000       0.320000     500.000000    0.000000\n",
      "25%    2012.000000       0.900000       1.200000   15000.000000    0.000000\n",
      "50%    2014.000000       3.600000       6.400000   32000.000000    0.000000\n",
      "75%    2016.000000       6.000000       9.900000   48767.000000    0.000000\n",
      "max    2018.000000      35.000000      92.600000  500000.000000    3.000000\n"
     ]
    }
   ],
   "source": [
    "# Import necessary libraries\n",
    "import pandas as pd\n",
    "import numpy as np\n",
    "from sklearn.model_selection import train_test_split\n",
    "from sklearn.linear_model import LinearRegression\n",
    "from sklearn.metrics import mean_squared_error, r2_score\n",
    "from sklearn.preprocessing import LabelEncoder\n",
    "import seaborn as sns\n",
    "import matplotlib.pyplot as plt\n",
    "\n",
    "# Load the dataset\n",
    "df = pd.read_csv('cardata.csv')  # Replace 'car_data.csv' with the actual filename\n",
    "\n",
    "# Explore the dataset\n",
    "print(df.head())\n",
    "print(df.info())\n",
    "print(df.describe())\n"
   ]
  },
  {
   "cell_type": "code",
   "execution_count": 3,
   "id": "209f4502",
   "metadata": {},
   "outputs": [
    {
     "name": "stdout",
     "output_type": "stream",
     "text": [
      "Selling_Price    0\n",
      "Present_Price    0\n",
      "Driven_kms       0\n",
      "Fuel_Type        0\n",
      "Selling_type     0\n",
      "Transmission     0\n",
      "Owner            0\n",
      "Car_Age          0\n",
      "dtype: int64\n"
     ]
    }
   ],
   "source": [
    "# Check for duplicates\n",
    "df = df.drop_duplicates()\n",
    "\n",
    "# Create a new column 'Car_Age' by subtracting 'Year' from the current year (assuming current year = 2024)\n",
    "df['Car_Age'] = 2024 - df['Year']\n",
    "\n",
    "# Drop 'Car_Name' and 'Year' as they aren't useful for prediction\n",
    "df = df.drop(['Car_Name', 'Year'], axis=1)\n",
    "\n",
    "# Convert categorical features into numerical using Label Encoding or One Hot Encoding\n",
    "labelencoder = LabelEncoder()\n",
    "\n",
    "df['Fuel_Type'] = labelencoder.fit_transform(df['Fuel_Type'])  # Encoding Fuel_Type\n",
    "df['Selling_type'] = labelencoder.fit_transform(df['Selling_type'])  # Encoding Selling_type\n",
    "df['Transmission'] = labelencoder.fit_transform(df['Transmission'])  # Encoding Transmission\n",
    "\n",
    "# Check if there are any missing values\n",
    "print(df.isnull().sum())\n"
   ]
  },
  {
   "cell_type": "code",
   "execution_count": 4,
   "id": "34c2dbef",
   "metadata": {},
   "outputs": [
    {
     "name": "stdout",
     "output_type": "stream",
     "text": [
      "(239, 7) (60, 7)\n"
     ]
    }
   ],
   "source": [
    "# Features (X) and target variable (y)\n",
    "X = df.drop('Selling_Price', axis=1)  # Drop the target column 'Selling_Price'\n",
    "y = df['Selling_Price']  # The target is 'Selling_Price'\n",
    "\n",
    "# Split the data into training and testing sets (80% train, 20% test)\n",
    "X_train, X_test, y_train, y_test = train_test_split(X, y, test_size=0.2, random_state=42)\n",
    "\n",
    "# Display the shape of the train and test data\n",
    "print(X_train.shape, X_test.shape)\n"
   ]
  },
  {
   "cell_type": "code",
   "execution_count": 5,
   "id": "8c0c79ab",
   "metadata": {},
   "outputs": [
    {
     "name": "stdout",
     "output_type": "stream",
     "text": [
      "Mean Squared Error: 6.6754441004922525\n",
      "R-squared: 0.7409934356413543\n"
     ]
    },
    {
     "data": {
      "image/png": "[encoded data removed]",
      "text/plain": [
       "<Figure size 640x480 with 1 Axes>"
      ]
     },
     "metadata": {},
     "output_type": "display_data"
    }
   ],
   "source": [
    "# Train the model using Linear Regression\n",
    "model = LinearRegression()\n",
    "model.fit(X_train, y_train)\n",
    "\n",
    "# Make predictions on the test data\n",
    "y_pred = model.predict(X_test)\n",
    "\n",
    "# Evaluate the model\n",
    "mse = mean_squared_error(y_test, y_pred)\n",
    "r2 = r2_score(y_test, y_pred)\n",
    "\n",
    "print(f\"Mean Squared Error: {mse}\")\n",
    "print(f\"R-squared: {r2}\")\n",
    "\n",
    "# Visualize Actual vs Predicted Prices\n",
    "plt.scatter(y_test, y_pred)\n",
    "plt.xlabel(\"Actual Selling Prices\")\n",
    "plt.ylabel(\"Predicted Selling Prices\")\n",
    "plt.title(\"Actual vs Predicted Car Prices\")\n",
    "plt.show()\n"
   ]
  },
  {
   "cell_type": "code",
   "execution_count": 6,
   "id": "776a7ed4",
   "metadata": {},
   "outputs": [
    {
     "name": "stdout",
     "output_type": "stream",
     "text": [
      "Random Forest MSE: 12.523286692333347\n",
      "Random Forest R-squared: 0.5140977271578948\n"
     ]
    }
   ],
   "source": [
    "from sklearn.ensemble import RandomForestRegressor\n",
    "\n",
    "rf_model = RandomForestRegressor()\n",
    "rf_model.fit(X_train, y_train)\n",
    "y_rf_pred = rf_model.predict(X_test)\n",
    "\n",
    "rf_mse = mean_squared_error(y_test, y_rf_pred)\n",
    "rf_r2 = r2_score(y_test, y_rf_pred)\n",
    "\n",
    "print(f\"Random Forest MSE: {rf_mse}\")\n",
    "print(f\"Random Forest R-squared: {rf_r2}\")\n"
   ]
  },
  {
   "cell_type": "code",
   "execution_count": 7,
   "id": "07300a61",
   "metadata": {},
   "outputs": [
    {
     "name": "stdout",
     "output_type": "stream",
     "text": [
      "Fitting 5 folds for each of 216 candidates, totalling 1080 fits\n",
      "Best Hyperparameters: {'bootstrap': True, 'max_depth': 20, 'min_samples_leaf': 2, 'min_samples_split': 2, 'n_estimators': 500}\n",
      "Tuned Mean Squared Error: 9.92700977380887\n",
      "Tuned R-squared: 0.6148330122816349\n"
     ]
    }
   ],
   "source": [
    "from sklearn.ensemble import RandomForestRegressor\n",
    "from sklearn.model_selection import GridSearchCV\n",
    "\n",
    "# Initialize the Random Forest Regressor\n",
    "rf = RandomForestRegressor(random_state=42)\n",
    "\n",
    "# Define the hyperparameter grid\n",
    "param_grid = {\n",
    "    'n_estimators': [100, 200, 500],       # Number of trees in the forest\n",
    "    'max_depth': [10, 20, 30, None],       # Maximum depth of the tree\n",
    "    'min_samples_split': [2, 5, 10],       # Minimum number of samples required to split a node\n",
    "    'min_samples_leaf': [1, 2, 4],         # Minimum number of samples required at each leaf node\n",
    "    'bootstrap': [True, False]             # Method of sampling data for training (with or without replacement)\n",
    "}\n",
    "\n",
    "# Use GridSearchCV to find the best hyperparameters\n",
    "grid_search = GridSearchCV(estimator=rf, param_grid=param_grid, cv=5, scoring='r2', n_jobs=-1, verbose=2)\n",
    "\n",
    "# Fit the model to the training data\n",
    "grid_search.fit(X_train, y_train)\n",
    "\n",
    "# Best parameters from the grid search\n",
    "print(f\"Best Hyperparameters: {grid_search.best_params_}\")\n",
    "\n",
    "# Predict with the best model\n",
    "best_rf = grid_search.best_estimator_\n",
    "y_pred = best_rf.predict(X_test)\n",
    "\n",
    "# Evaluate the tuned model\n",
    "tuned_mse = mean_squared_error(y_test, y_pred)\n",
    "tuned_r2 = r2_score(y_test, y_pred)\n",
    "\n",
    "print(f\"Tuned Mean Squared Error: {tuned_mse}\")\n",
    "print(f\"Tuned R-squared: {tuned_r2}\")\n"
   ]
  },
  {
   "cell_type": "code",
   "execution_count": 8,
   "id": "e1cb366b",
   "metadata": {},
   "outputs": [
    {
     "name": "stdout",
     "output_type": "stream",
     "text": [
      "Fitting 5 folds for each of 100 candidates, totalling 500 fits\n",
      "Best Hyperparameters: {'n_estimators': 500, 'min_samples_split': 2, 'min_samples_leaf': 2, 'max_depth': 20, 'bootstrap': True}\n",
      "Randomized Search MSE: 9.92700977380887\n",
      "Randomized Search R-squared: 0.6148330122816349\n"
     ]
    }
   ],
   "source": [
    "from sklearn.model_selection import RandomizedSearchCV\n",
    "\n",
    "# Use RandomizedSearchCV instead of GridSearchCV\n",
    "random_search = RandomizedSearchCV(estimator=rf, param_distributions=param_grid, \n",
    "                                   n_iter=100, cv=5, verbose=2, random_state=42, n_jobs=-1)\n",
    "\n",
    "# Fit the model\n",
    "random_search.fit(X_train, y_train)\n",
    "\n",
    "# Best parameters from the random search\n",
    "print(f\"Best Hyperparameters: {random_search.best_params_}\")\n",
    "\n",
    "# Evaluate\n",
    "best_rf_random = random_search.best_estimator_\n",
    "y_random_pred = best_rf_random.predict(X_test)\n",
    "\n",
    "# Evaluation\n",
    "random_mse = mean_squared_error(y_test, y_random_pred)\n",
    "random_r2 = r2_score(y_test, y_random_pred)\n",
    "\n",
    "print(f\"Randomized Search MSE: {random_mse}\")\n",
    "print(f\"Randomized Search R-squared: {random_r2}\")\n"
   ]
  },
  {
   "cell_type": "code",
   "execution_count": 5,
   "id": "c1c70a76",
   "metadata": {},
   "outputs": [
    {
     "name": "stdout",
     "output_type": "stream",
     "text": [
      "Please enter the following details about the car:\n"
     ]
    },
    {
     "name": "stdin",
     "output_type": "stream",
     "text": [
      "Year of Manufacture (e.g., 2014):  2017\n",
      "Fuel Type (Petrol/Diesel/CNG):  Petrol\n",
      "Transmission Type (Manual/Automatic):  Manual\n",
      "Selling Type (Individual/Dealer):  Individual\n",
      "Kilometers Driven:  50000\n",
      "Present Price of the Car:  9\n",
      "Engine Size (in liters):  1.5\n",
      "Power (in bhp):  100\n",
      "Number of Seats:  5\n"
     ]
    },
    {
     "name": "stdout",
     "output_type": "stream",
     "text": [
      "The predicted selling price of the car is: 12000.00\n"
     ]
    }
   ],
   "source": [
    "import pandas as pd\n",
    "from sklearn.preprocessing import LabelEncoder\n",
    "import joblib\n",
    "\n",
    "# Load the trained Random Forest model\n",
    "# Make sure to provide the correct path to your model file\n",
    "# best_rf_random = joblib.load('best_random_forest_model.pkl')\n",
    "\n",
    "# Create a label encoder for categorical variables\n",
    "labelencoder = LabelEncoder()\n",
    "\n",
    "# Function to take user inputs and predict selling price\n",
    "def predict_selling_price(model):\n",
    "    print(\"Please enter the following details about the car:\")\n",
    "    \n",
    "    try:\n",
    "        # Taking user inputs\n",
    "        year = int(input(\"Year of Manufacture (e.g., 2014): \"))\n",
    "        fuel_type = input(\"Fuel Type (Petrol/Diesel/CNG): \")\n",
    "        transmission = input(\"Transmission Type (Manual/Automatic): \")\n",
    "        selling_type = input(\"Selling Type (Individual/Dealer): \")\n",
    "        driven_kms = float(input(\"Kilometers Driven: \"))\n",
    "        present_price = float(input(\"Present Price of the Car: \"))\n",
    "        engine = float(input(\"Engine Size (in liters): \"))\n",
    "        power = float(input(\"Power (in bhp): \"))\n",
    "        seats = int(input(\"Number of Seats: \"))\n",
    "        \n",
    "        # Calculate Car Age\n",
    "        car_age = 2024 - year\n",
    "        \n",
    "        # Create DataFrame from input data\n",
    "        input_data = {\n",
    "            'Car_Age': car_age,\n",
    "            'Fuel_Type': fuel_type,\n",
    "            'Selling_type': selling_type,\n",
    "            'Transmission': transmission,\n",
    "            'Driven_kms': driven_kms,\n",
    "            'Present_Price': present_price,\n",
    "            'Engine': engine,\n",
    "            'Power': power,\n",
    "            'Seats': seats\n",
    "        }\n",
    "        \n",
    "        input_df = pd.DataFrame([input_data])\n",
    "        \n",
    "        # Encode categorical variables using the same label encoder used during training\n",
    "        input_df['Fuel_Type'] = labelencoder.fit_transform(input_df['Fuel_Type'])\n",
    "        input_df['Transmission'] = labelencoder.fit_transform(input_df['Transmission'])\n",
    "        input_df['Selling_type'] = labelencoder.fit_transform(input_df['Selling_type'])\n",
    "        \n",
    "        # Make prediction using the trained model\n",
    "        predicted_price = model.predict(input_df)\n",
    "        \n",
    "        print(f\"The predicted selling price of the car is: {predicted_price[0]:.2f}\")\n",
    "    \n",
    "    except Exception as e:\n",
    "        print(f\"An error occurred: {e}\")\n",
    "\n",
    "# Call the prediction function with your trained model\n",
    "# Uncomment this line when you have your model loaded\n",
    "# predict_selling_price(best_rf_random)\n",
    "\n",
    "# For demonstration purposes, let's simulate loading a model and calling the function:\n",
    "class DummyModel:\n",
    "    def predict(self, X):\n",
    "        # Dummy prediction logic for demonstration purposes\n",
    "        return [10000 + X['Car_Age'][0] * 1000 - X['Driven_kms'][0] * 0.1]\n",
    "\n",
    "best_rf_random = DummyModel()  # Replace this with your actual loaded model\n",
    "predict_selling_price(best_rf_random)"
   ]
  },
  {
   "cell_type": "code",
   "execution_count": null,
   "id": "a5ff8bbd",
   "metadata": {},
   "outputs": [],
   "source": []
  }
 ],
 "metadata": {
  "kernelspec": {
   "display_name": "Python 3 (ipykernel)",
   "language": "python",
   "name": "python3"
  },
  "language_info": {
   "codemirror_mode": {
    "name": "ipython",
    "version": 3
   },
   "file_extension": ".py",
   "mimetype": "text/x-python",
   "name": "python",
   "nbconvert_exporter": "python",
   "pygments_lexer": "ipython3",
   "version": "3.11.9"
  }
 },
 "nbformat": 4,
 "nbformat_minor": 5
}
